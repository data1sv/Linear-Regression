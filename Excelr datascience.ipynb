{
 "cells": [
  {
   "cell_type": "markdown",
   "id": "e6a4b840",
   "metadata": {},
   "source": [
    "#  session 1 python basics"
   ]
  },
  {
   "cell_type": "code",
   "execution_count": null,
   "id": "c21a67c1",
   "metadata": {},
   "outputs": [],
   "source": [
    "1 #functions\n"
   ]
  },
  {
   "cell_type": "code",
   "execution_count": null,
   "id": "02676ef5",
   "metadata": {},
   "outputs": [],
   "source": [
    "# function performs a particular task\n",
    "#indentifaction -------> function()"
   ]
  },
  {
   "cell_type": "code",
   "execution_count": 2,
   "id": "8fd82cb4",
   "metadata": {},
   "outputs": [
    {
     "name": "stdout",
     "output_type": "stream",
     "text": [
      "hello world\n"
     ]
    }
   ],
   "source": [
    "print(\"hello world\")\n"
   ]
  },
  {
   "cell_type": "code",
   "execution_count": null,
   "id": "84623081",
   "metadata": {},
   "outputs": [],
   "source": [
    "2 #variables"
   ]
  },
  {
   "cell_type": "code",
   "execution_count": 3,
   "id": "804f9999",
   "metadata": {},
   "outputs": [],
   "source": [
    "a=12"
   ]
  },
  {
   "cell_type": "code",
   "execution_count": 4,
   "id": "81fb502d",
   "metadata": {},
   "outputs": [],
   "source": [
    "b=45"
   ]
  },
  {
   "cell_type": "code",
   "execution_count": 5,
   "id": "8cc0f127",
   "metadata": {},
   "outputs": [
    {
     "data": {
      "text/plain": [
       "12"
      ]
     },
     "execution_count": 5,
     "metadata": {},
     "output_type": "execute_result"
    }
   ],
   "source": [
    "a"
   ]
  },
  {
   "cell_type": "code",
   "execution_count": 6,
   "id": "6806367e",
   "metadata": {},
   "outputs": [
    {
     "data": {
      "text/plain": [
       "45"
      ]
     },
     "execution_count": 6,
     "metadata": {},
     "output_type": "execute_result"
    }
   ],
   "source": [
    "b"
   ]
  },
  {
   "cell_type": "code",
   "execution_count": 8,
   "id": "0ff9600a",
   "metadata": {},
   "outputs": [],
   "source": [
    "c = a + b"
   ]
  },
  {
   "cell_type": "code",
   "execution_count": 9,
   "id": "8ef45232",
   "metadata": {},
   "outputs": [
    {
     "data": {
      "text/plain": [
       "57"
      ]
     },
     "execution_count": 9,
     "metadata": {},
     "output_type": "execute_result"
    }
   ],
   "source": [
    "c"
   ]
  },
  {
   "cell_type": "code",
   "execution_count": 10,
   "id": "1d97dd9a",
   "metadata": {},
   "outputs": [],
   "source": [
    "a9 = 7"
   ]
  },
  {
   "cell_type": "code",
   "execution_count": 12,
   "id": "deccd104",
   "metadata": {},
   "outputs": [],
   "source": [
    "ap8 = a9"
   ]
  },
  {
   "cell_type": "code",
   "execution_count": 13,
   "id": "42ed069e",
   "metadata": {},
   "outputs": [
    {
     "data": {
      "text/plain": [
       "7"
      ]
     },
     "execution_count": 13,
     "metadata": {},
     "output_type": "execute_result"
    }
   ],
   "source": [
    "ap8"
   ]
  },
  {
   "cell_type": "code",
   "execution_count": 14,
   "id": "c220ffd5",
   "metadata": {},
   "outputs": [],
   "source": [
    "3 #data types in python"
   ]
  },
  {
   "cell_type": "code",
   "execution_count": null,
   "id": "e2e8df3a",
   "metadata": {},
   "outputs": [],
   "source": [
    "#Integer--->int ---->12,1,2,100\n",
    "#FLoat ---->float--->34.9,12,1,3,54\n",
    "#boolean ----> bool --->True,False\n",
    "#string -----> str----->\"wfsffssa\""
   ]
  },
  {
   "cell_type": "code",
   "execution_count": 16,
   "id": "c21500fe",
   "metadata": {},
   "outputs": [
    {
     "name": "stdout",
     "output_type": "stream",
     "text": [
      "<class 'bool'>\n"
     ]
    }
   ],
   "source": [
    "print(type(True))\n"
   ]
  },
  {
   "cell_type": "code",
   "execution_count": 17,
   "id": "2d007c84",
   "metadata": {},
   "outputs": [
    {
     "name": "stdout",
     "output_type": "stream",
     "text": [
      "<class 'int'>\n"
     ]
    }
   ],
   "source": [
    "print(type(3))"
   ]
  },
  {
   "cell_type": "code",
   "execution_count": 18,
   "id": "ea3eeca3",
   "metadata": {},
   "outputs": [
    {
     "name": "stdout",
     "output_type": "stream",
     "text": [
      "<class 'float'>\n"
     ]
    }
   ],
   "source": [
    "print(type(34.9))"
   ]
  },
  {
   "cell_type": "code",
   "execution_count": 19,
   "id": "8faac603",
   "metadata": {},
   "outputs": [
    {
     "name": "stdout",
     "output_type": "stream",
     "text": [
      "<class 'str'>\n"
     ]
    }
   ],
   "source": [
    "print(type(\"string\"))"
   ]
  },
  {
   "cell_type": "code",
   "execution_count": 125,
   "id": "955a8d9f",
   "metadata": {},
   "outputs": [],
   "source": [
    "# sequential datatypes\n",
    "#tuple----->()\n",
    "#list------>[]\n",
    "#set------->{}\n",
    "#dict------>{}\n",
    "\n"
   ]
  },
  {
   "cell_type": "code",
   "execution_count": 22,
   "id": "753a79fe",
   "metadata": {},
   "outputs": [],
   "source": [
    "var=23,56"
   ]
  },
  {
   "cell_type": "code",
   "execution_count": 23,
   "id": "37ef890a",
   "metadata": {},
   "outputs": [
    {
     "data": {
      "text/plain": [
       "(23, 56)"
      ]
     },
     "execution_count": 23,
     "metadata": {},
     "output_type": "execute_result"
    }
   ],
   "source": [
    "var"
   ]
  },
  {
   "cell_type": "code",
   "execution_count": 24,
   "id": "93f210c2",
   "metadata": {},
   "outputs": [
    {
     "name": "stdout",
     "output_type": "stream",
     "text": [
      "<class 'tuple'>\n"
     ]
    }
   ],
   "source": [
    "print(type(var))"
   ]
  },
  {
   "cell_type": "code",
   "execution_count": 25,
   "id": "b995ec65",
   "metadata": {},
   "outputs": [
    {
     "name": "stdout",
     "output_type": "stream",
     "text": [
      "[23, 76, 'hello', 98.6, [45, 56, 12], True]\n"
     ]
    }
   ],
   "source": [
    "mylist =[23,76,\"hello\",98.6,[45,56,12],True]\n",
    "print(mylist)"
   ]
  },
  {
   "cell_type": "code",
   "execution_count": 26,
   "id": "28d58963",
   "metadata": {},
   "outputs": [
    {
     "name": "stdout",
     "output_type": "stream",
     "text": [
      "<class 'list'>\n"
     ]
    }
   ],
   "source": [
    "print(type(mylist))"
   ]
  },
  {
   "cell_type": "code",
   "execution_count": 27,
   "id": "0ac1b9e2",
   "metadata": {},
   "outputs": [
    {
     "data": {
      "text/plain": [
       "23"
      ]
     },
     "execution_count": 27,
     "metadata": {},
     "output_type": "execute_result"
    }
   ],
   "source": [
    "mylist[0]"
   ]
  },
  {
   "cell_type": "code",
   "execution_count": 30,
   "id": "11befda3",
   "metadata": {
    "scrolled": true
   },
   "outputs": [
    {
     "data": {
      "text/plain": [
       "[45, 56, 12]"
      ]
     },
     "execution_count": 30,
     "metadata": {},
     "output_type": "execute_result"
    }
   ],
   "source": [
    "mylist[4]"
   ]
  },
  {
   "cell_type": "code",
   "execution_count": 31,
   "id": "35dbe705",
   "metadata": {},
   "outputs": [
    {
     "name": "stdout",
     "output_type": "stream",
     "text": [
      "<class 'list'>\n"
     ]
    }
   ],
   "source": [
    "print(type(mylist))"
   ]
  },
  {
   "cell_type": "code",
   "execution_count": 32,
   "id": "98a34702",
   "metadata": {},
   "outputs": [
    {
     "data": {
      "text/plain": [
       "56"
      ]
     },
     "execution_count": 32,
     "metadata": {},
     "output_type": "execute_result"
    }
   ],
   "source": [
    "mylist[4][1]"
   ]
  },
  {
   "cell_type": "code",
   "execution_count": 33,
   "id": "ac06bc75",
   "metadata": {},
   "outputs": [],
   "source": [
    "#slicing\n",
    "# start : stop+1"
   ]
  },
  {
   "cell_type": "code",
   "execution_count": 34,
   "id": "86f2b9ae",
   "metadata": {},
   "outputs": [
    {
     "name": "stdout",
     "output_type": "stream",
     "text": [
      "[23, 76, 'hello']\n"
     ]
    }
   ],
   "source": [
    "print(mylist[0:3])"
   ]
  },
  {
   "cell_type": "code",
   "execution_count": 35,
   "id": "4647f21e",
   "metadata": {},
   "outputs": [
    {
     "name": "stdout",
     "output_type": "stream",
     "text": [
      "[23, 76, 'hello'] [45, 56]\n"
     ]
    }
   ],
   "source": [
    "print(mylist[0:3],mylist[-2][0:2])"
   ]
  },
  {
   "cell_type": "code",
   "execution_count": 36,
   "id": "de69b4de",
   "metadata": {},
   "outputs": [],
   "source": [
    "mylist = [23,76,\"hello,98.6,[45,56,12] ,true\"]"
   ]
  },
  {
   "cell_type": "code",
   "execution_count": 37,
   "id": "bcab1965",
   "metadata": {},
   "outputs": [],
   "source": [
    "mylist=[0]"
   ]
  },
  {
   "cell_type": "code",
   "execution_count": 40,
   "id": "8dac3569",
   "metadata": {},
   "outputs": [],
   "source": [
    "mylist[0]=88\n"
   ]
  },
  {
   "cell_type": "code",
   "execution_count": 41,
   "id": "598a4ebc",
   "metadata": {},
   "outputs": [
    {
     "data": {
      "text/plain": [
       "[88]"
      ]
     },
     "execution_count": 41,
     "metadata": {},
     "output_type": "execute_result"
    }
   ],
   "source": [
    "mylist"
   ]
  },
  {
   "cell_type": "code",
   "execution_count": 42,
   "id": "fde51acf",
   "metadata": {},
   "outputs": [
    {
     "data": {
      "text/plain": [
       "[88]"
      ]
     },
     "execution_count": 42,
     "metadata": {},
     "output_type": "execute_result"
    }
   ],
   "source": [
    "mylist"
   ]
  },
  {
   "cell_type": "code",
   "execution_count": 43,
   "id": "9a8f40d2",
   "metadata": {},
   "outputs": [],
   "source": [
    "mylist = [88,76,\"hello,98.6,[45,56,12] ,true\"]"
   ]
  },
  {
   "cell_type": "code",
   "execution_count": 44,
   "id": "fac886b5",
   "metadata": {},
   "outputs": [
    {
     "data": {
      "text/plain": [
       "[88, 76, 'hello,98.6,[45,56,12] ,true']"
      ]
     },
     "execution_count": 44,
     "metadata": {},
     "output_type": "execute_result"
    }
   ],
   "source": [
    "mylist"
   ]
  },
  {
   "cell_type": "code",
   "execution_count": 45,
   "id": "a9865c17",
   "metadata": {},
   "outputs": [],
   "source": [
    "mytuple =(23,76,\"hello\",98.6,[45,56,12],True)"
   ]
  },
  {
   "cell_type": "code",
   "execution_count": 47,
   "id": "23aa6b4e",
   "metadata": {},
   "outputs": [],
   "source": [
    "d=[3,3,3,3,3,6,6,6,6,5,5,5,4,4,44,4,4,888,88,88]"
   ]
  },
  {
   "cell_type": "code",
   "execution_count": 48,
   "id": "fd3d51f1",
   "metadata": {},
   "outputs": [
    {
     "data": {
      "text/plain": [
       "{3, 4, 5, 6, 44, 88, 888}"
      ]
     },
     "execution_count": 48,
     "metadata": {},
     "output_type": "execute_result"
    }
   ],
   "source": [
    "set(d)"
   ]
  },
  {
   "cell_type": "code",
   "execution_count": 49,
   "id": "db897daf",
   "metadata": {},
   "outputs": [],
   "source": [
    "e=set(d)"
   ]
  },
  {
   "cell_type": "code",
   "execution_count": 50,
   "id": "833b1b5e",
   "metadata": {},
   "outputs": [],
   "source": [
    "f=list(e)"
   ]
  },
  {
   "cell_type": "code",
   "execution_count": 51,
   "id": "48d2c965",
   "metadata": {},
   "outputs": [
    {
     "data": {
      "text/plain": [
       "[3, 4, 5, 6, 44, 888, 88]"
      ]
     },
     "execution_count": 51,
     "metadata": {},
     "output_type": "execute_result"
    }
   ],
   "source": [
    "f"
   ]
  },
  {
   "cell_type": "code",
   "execution_count": 54,
   "id": "5ce3ef96",
   "metadata": {},
   "outputs": [],
   "source": [
    "mydict = {\"name\":\"faiz\",\"age\":24,\"place\":\"mumbai\"}"
   ]
  },
  {
   "cell_type": "code",
   "execution_count": 55,
   "id": "94be0cae",
   "metadata": {},
   "outputs": [
    {
     "data": {
      "text/plain": [
       "'mumbai'"
      ]
     },
     "execution_count": 55,
     "metadata": {},
     "output_type": "execute_result"
    }
   ],
   "source": [
    "mydict[\"place\"]"
   ]
  },
  {
   "cell_type": "code",
   "execution_count": 56,
   "id": "79f7e043",
   "metadata": {},
   "outputs": [],
   "source": [
    "mydict = {\"name\":[\"faiz\",\"Saurav Prasad\"],\"age\":24,\"place\":\"mumbai\"}"
   ]
  },
  {
   "cell_type": "code",
   "execution_count": 57,
   "id": "d4b3db16",
   "metadata": {},
   "outputs": [
    {
     "data": {
      "text/plain": [
       "{'name': ['faiz', 'Saurav Prasad'], 'age': 24, 'place': 'mumbai'}"
      ]
     },
     "execution_count": 57,
     "metadata": {},
     "output_type": "execute_result"
    }
   ],
   "source": [
    "mydict"
   ]
  },
  {
   "cell_type": "code",
   "execution_count": 63,
   "id": "fa356f79",
   "metadata": {},
   "outputs": [],
   "source": [
    "dd=[23,76,\"hello\",98.6,\"world\",56,12,67,99,True]"
   ]
  },
  {
   "cell_type": "code",
   "execution_count": 64,
   "id": "e05e17d7",
   "metadata": {},
   "outputs": [
    {
     "data": {
      "text/plain": [
       "('hello', 'world')"
      ]
     },
     "execution_count": 64,
     "metadata": {},
     "output_type": "execute_result"
    }
   ],
   "source": [
    "dd[2],dd[4]"
   ]
  },
  {
   "cell_type": "code",
   "execution_count": 65,
   "id": "23e9489a",
   "metadata": {},
   "outputs": [
    {
     "data": {
      "text/plain": [
       "10"
      ]
     },
     "execution_count": 65,
     "metadata": {},
     "output_type": "execute_result"
    }
   ],
   "source": [
    "len(dd)"
   ]
  },
  {
   "cell_type": "code",
   "execution_count": 66,
   "id": "d65aeced",
   "metadata": {},
   "outputs": [],
   "source": [
    "a = [23,76,\"hello\",98.6,\"world\",56,12,67,99,True]"
   ]
  },
  {
   "cell_type": "code",
   "execution_count": 67,
   "id": "ad5a0669",
   "metadata": {},
   "outputs": [],
   "source": [
    "a.insert(0,\"hello\")"
   ]
  },
  {
   "cell_type": "code",
   "execution_count": 68,
   "id": "23b70cf7",
   "metadata": {},
   "outputs": [
    {
     "data": {
      "text/plain": [
       "['hello', 23, 76, 'hello', 98.6, 'world', 56, 12, 67, 99, True]"
      ]
     },
     "execution_count": 68,
     "metadata": {},
     "output_type": "execute_result"
    }
   ],
   "source": [
    "a"
   ]
  },
  {
   "cell_type": "code",
   "execution_count": 69,
   "id": "d2148c29",
   "metadata": {},
   "outputs": [],
   "source": [
    "a.append(\"55\")\n",
    " "
   ]
  },
  {
   "cell_type": "code",
   "execution_count": 70,
   "id": "36d47cc7",
   "metadata": {},
   "outputs": [
    {
     "data": {
      "text/plain": [
       "['hello', 23, 76, 'hello', 98.6, 'world', 56, 12, 67, 99, True, '55']"
      ]
     },
     "execution_count": 70,
     "metadata": {},
     "output_type": "execute_result"
    }
   ],
   "source": [
    "a"
   ]
  },
  {
   "cell_type": "code",
   "execution_count": 71,
   "id": "11d12085",
   "metadata": {},
   "outputs": [],
   "source": [
    "#staments in python\n",
    "# if,elif,else"
   ]
  },
  {
   "cell_type": "code",
   "execution_count": 72,
   "id": "8a7ef53d",
   "metadata": {},
   "outputs": [],
   "source": [
    "var = 12"
   ]
  },
  {
   "cell_type": "code",
   "execution_count": 73,
   "id": "fbb57fd3",
   "metadata": {},
   "outputs": [],
   "source": [
    "if var>13:\n",
    "    print(\"hello\")"
   ]
  },
  {
   "cell_type": "code",
   "execution_count": 74,
   "id": "bb7c8b45",
   "metadata": {},
   "outputs": [
    {
     "name": "stdout",
     "output_type": "stream",
     "text": [
      "zzzzz\n"
     ]
    }
   ],
   "source": [
    "if var>13:\n",
    "    print(\"hello\")\n",
    "elif var== 12:\n",
    "    print(\"zzzzz\")\n",
    "else:\n",
    "    print(\"bye\")\n",
    "    "
   ]
  },
  {
   "cell_type": "code",
   "execution_count": 75,
   "id": "206b3947",
   "metadata": {},
   "outputs": [
    {
     "name": "stdout",
     "output_type": "stream",
     "text": [
      "enter 1st number:24\n",
      "enter 2nd number:32\n"
     ]
    }
   ],
   "source": [
    "a = int(input(\"enter 1st number:\"))\n",
    "b = int(input(\"enter 2nd number:\"))\n"
   ]
  },
  {
   "cell_type": "code",
   "execution_count": 76,
   "id": "ad4f789c",
   "metadata": {},
   "outputs": [],
   "source": [
    "c = a + b"
   ]
  },
  {
   "cell_type": "code",
   "execution_count": 78,
   "id": "443bfa12",
   "metadata": {},
   "outputs": [
    {
     "data": {
      "text/plain": [
       "'2432'"
      ]
     },
     "execution_count": 78,
     "metadata": {},
     "output_type": "execute_result"
    }
   ],
   "source": [
    "c"
   ]
  },
  {
   "cell_type": "code",
   "execution_count": 79,
   "id": "d6ea6155",
   "metadata": {},
   "outputs": [
    {
     "data": {
      "text/plain": [
       "'2432'"
      ]
     },
     "execution_count": 79,
     "metadata": {},
     "output_type": "execute_result"
    }
   ],
   "source": [
    "c"
   ]
  },
  {
   "cell_type": "code",
   "execution_count": 80,
   "id": "b490911d",
   "metadata": {},
   "outputs": [
    {
     "name": "stdout",
     "output_type": "stream",
     "text": [
      "enter 1st number:312\n",
      "enter 2nd number:424\n"
     ]
    }
   ],
   "source": [
    "a = int(input(\"enter 1st number:\"))\n",
    "b = int(input(\"enter 2nd number:\"))"
   ]
  },
  {
   "cell_type": "code",
   "execution_count": 81,
   "id": "eb3566af",
   "metadata": {},
   "outputs": [],
   "source": [
    "c = a + b"
   ]
  },
  {
   "cell_type": "code",
   "execution_count": 82,
   "id": "e1d4a5a6",
   "metadata": {},
   "outputs": [
    {
     "data": {
      "text/plain": [
       "736"
      ]
     },
     "execution_count": 82,
     "metadata": {},
     "output_type": "execute_result"
    }
   ],
   "source": [
    "c"
   ]
  },
  {
   "cell_type": "code",
   "execution_count": 83,
   "id": "b661bcdb",
   "metadata": {},
   "outputs": [
    {
     "name": "stdout",
     "output_type": "stream",
     "text": [
      "<class 'int'>\n"
     ]
    }
   ],
   "source": [
    "print(type(a))"
   ]
  },
  {
   "cell_type": "code",
   "execution_count": 85,
   "id": "049b4831",
   "metadata": {},
   "outputs": [],
   "source": [
    "# student will come and input their marks out of 100 you need to put the student  in his/her correct grade \n",
    "# 75-100 ---> Grade --->A\n",
    "# 50-75 ----> Grade --->B\n",
    "# 35-50 ----> Grade --->C\n",
    "# <35   ----> Grade --->D"
   ]
  },
  {
   "cell_type": "code",
   "execution_count": 103,
   "id": "4d9b3724",
   "metadata": {},
   "outputs": [
    {
     "name": "stdout",
     "output_type": "stream",
     "text": [
      "enter marks:65\n",
      "grade b\n"
     ]
    }
   ],
   "source": [
    "a = int(input(\"enter marks:\"))    \n",
    "if   a>=75 and a<= 100:\n",
    "    print(\"grade a\")\n",
    "elif a>=50 and a<=74:\n",
    "    print(\"grade b\")\n",
    "elif a>=35 and a<=49:   \n",
    "    print(\"grade c\")\n",
    "elif a<35 and a>=0:\n",
    "    print(\"failed\")\n",
    "    "
   ]
  },
  {
   "cell_type": "code",
   "execution_count": 104,
   "id": "676bfeb4",
   "metadata": {},
   "outputs": [
    {
     "name": "stdout",
     "output_type": "stream",
     "text": [
      "hello world\n",
      "hello world\n",
      "hello world\n",
      "hello world\n",
      "hello world\n",
      "hello world\n",
      "hello world\n",
      "hello world\n",
      "hello world\n",
      "hello world\n",
      "hello world\n",
      "hello world\n",
      "hello world\n",
      "hello world\n",
      "hello world\n",
      "hello world\n",
      "hello world\n",
      "hello world\n",
      "hello world\n",
      "hello world\n",
      "hello world\n",
      "hello world\n",
      "hello world\n",
      "hello world\n",
      "hello world\n",
      "hello world\n",
      "hello world\n",
      "hello world\n",
      "hello world\n",
      "hello world\n",
      "hello world\n",
      "hello world\n",
      "hello world\n",
      "hello world\n",
      "hello world\n",
      "hello world\n",
      "hello world\n",
      "hello world\n",
      "hello world\n",
      "hello world\n",
      "hello world\n",
      "hello world\n",
      "hello world\n",
      "hello world\n",
      "hello world\n",
      "hello world\n",
      "hello world\n",
      "hello world\n",
      "hello world\n",
      "hello world\n"
     ]
    }
   ],
   "source": [
    "for i in range(0,50):\n",
    "    print(\"hello world\")"
   ]
  },
  {
   "cell_type": "code",
   "execution_count": 108,
   "id": "78fefaca",
   "metadata": {},
   "outputs": [
    {
     "name": "stdout",
     "output_type": "stream",
     "text": [
      "2 * 1 = 2\n",
      "2 * 2 = 4\n",
      "2 * 3 = 6\n",
      "2 * 4 = 8\n",
      "2 * 5 = 10\n",
      "2 * 6 = 12\n",
      "2 * 7 = 14\n",
      "2 * 8 = 16\n",
      "2 * 9 = 18\n",
      "2 * 10 = 20\n"
     ]
    }
   ],
   "source": [
    "for i in range(1,11):\n",
    "    print(\"2\",\"*\",i,\"=\",i*2)"
   ]
  },
  {
   "cell_type": "code",
   "execution_count": 109,
   "id": "564c6768",
   "metadata": {},
   "outputs": [
    {
     "name": "stdout",
     "output_type": "stream",
     "text": [
      "2\n",
      "4\n",
      "6\n",
      "8\n",
      "10\n",
      "12\n",
      "14\n",
      "16\n",
      "18\n",
      "20\n"
     ]
    }
   ],
   "source": [
    "for i in range(1,11):\n",
    "    print(i*2)"
   ]
  },
  {
   "cell_type": "code",
   "execution_count": 110,
   "id": "0f2a11d7",
   "metadata": {},
   "outputs": [],
   "source": [
    "mylist=[23,\"hello\",\"hi\",45.9,\"bye\",12,76,\"zero\",0,99,[23,\"one\",12.7],77,11,(6,2,0),11.0]"
   ]
  },
  {
   "cell_type": "code",
   "execution_count": 111,
   "id": "4be421f3",
   "metadata": {},
   "outputs": [
    {
     "name": "stdout",
     "output_type": "stream",
     "text": [
      "tuples (6, 2, 0)\n"
     ]
    }
   ],
   "source": [
    " mylist=[23,\"hello\",\"hi\",45.9,\"bye\",12,76,\"zero\",0,99,[23,\"one\",12.7],77,11,(6,2,0),11.0]\n",
    " print(\"tuples\" ,mylist[13])"
   ]
  },
  {
   "cell_type": "code",
   "execution_count": 115,
   "id": "56edfe04",
   "metadata": {},
   "outputs": [
    {
     "name": "stdout",
     "output_type": "stream",
     "text": [
      "tuples (6, 2, 0)\n",
      "integers 23 12 76 0 99 77 11\n"
     ]
    }
   ],
   "source": [
    " mylist=[23,\"hello\",\"hi\",45.9,\"bye\",12,76,\"zero\",0,99,[23,\"one\",12.7],77,11,(6,2,0),11.0]\n",
    " print(\"tuples\" ,mylist[13])\n",
    " print(\"integers\",mylist[0],mylist[5],mylist[6],mylist[8],mylist[9],mylist[11],mylist[12])"
   ]
  },
  {
   "cell_type": "code",
   "execution_count": 117,
   "id": "29857e38",
   "metadata": {},
   "outputs": [
    {
     "name": "stdout",
     "output_type": "stream",
     "text": [
      "tuples: (6, 2, 0)\n",
      "integers: 23 12 76 0 99 77 11\n",
      "float: 45.9 11.0\n",
      "strings: hello hi bye zero\n",
      "list: [23, 'one', 12.7]\n"
     ]
    }
   ],
   "source": [
    " mylist=[23,\"hello\",\"hi\",45.9,\"bye\",12,76,\"zero\",0,99,[23,\"one\",12.7],77,11,(6,2,0),11.0]\n",
    " print(\"tuples:\" ,mylist[13])\n",
    " print(\"integers:\",mylist[0],mylist[5],mylist[6],mylist[8],mylist[9],mylist[11],mylist[12])\n",
    " print(\"float:\",mylist[3],mylist[14])\n",
    " print(\"strings:\",mylist[1],mylist[2],mylist[4],mylist[7])\n",
    " print(\"list:\",mylist[10])"
   ]
  },
  {
   "cell_type": "code",
   "execution_count": 124,
   "id": "b42aaf3a",
   "metadata": {},
   "outputs": [
    {
     "name": "stdout",
     "output_type": "stream",
     "text": [
      "Tuples: [(6, 2, 0)]\n",
      "Integers: [23, 12, 76, 0, 99, 77, 11]\n",
      "Floats: [45.9, 11.0]\n",
      "Strings: ['hello', 'hi', 'bye', 'zero']\n",
      "Lists: [[23, 'one', 12.7]]\n"
     ]
    }
   ],
   "source": [
    "mylist=[23,\"hello\",\"hi\",45.9,\"bye\",12,76,\"zero\",0,99,[23,\"one\",12.7],77,11,(6,2,0),11.0]\n",
    "tuples = []\n",
    "integers = []\n",
    "floats = []\n",
    "strings = []\n",
    "lists = []\n",
    "for data in mylist:\n",
    "    if (type(data))==tuple:\n",
    "        tuples.append(data)\n",
    "    elif (type(data))==int:\n",
    "        integers.append(data)\n",
    "    elif (type(data))==float:\n",
    "        floats.append(data)\n",
    "    elif (type(data))==str:\n",
    "        strings.append(data)\n",
    "    elif (type(data))==list:\n",
    "        lists.append(data)\n",
    "print(\"Tuples:\", tuples)\n",
    "print(\"Integers:\", integers)\n",
    "print(\"Floats:\", floats)\n",
    "print(\"Strings:\", strings)\n",
    "print(\"Lists:\", lists)"
   ]
  },
  {
   "cell_type": "code",
   "execution_count": 4,
   "id": "32dc9a91",
   "metadata": {},
   "outputs": [
    {
     "name": "stdout",
     "output_type": "stream",
     "text": [
      "enter a number15\n",
      "odd\n"
     ]
    }
   ],
   "source": [
    "n = int(input(\"enter a number\"))\n",
    "if n%2==0:\n",
    "    print(\"even\")\n",
    "else:\n",
    "    print(\"odd\")"
   ]
  },
  {
   "cell_type": "code",
   "execution_count": 7,
   "id": "80b2cd02",
   "metadata": {},
   "outputs": [],
   "source": [
    "#another method\n",
    "i = 20\n",
    "def pranav(n):\n",
    "    if n%2==0:\n",
    "        print(\"even\")\n",
    "    else:\n",
    "        print(\"odd\")"
   ]
  },
  {
   "cell_type": "code",
   "execution_count": 8,
   "id": "8bf673c0",
   "metadata": {},
   "outputs": [
    {
     "name": "stdout",
     "output_type": "stream",
     "text": [
      "even\n"
     ]
    }
   ],
   "source": [
    "pranav(10)"
   ]
  },
  {
   "cell_type": "code",
   "execution_count": 9,
   "id": "61fa31f0",
   "metadata": {},
   "outputs": [],
   "source": [
    "a=[1,2,3,4,5,6,7,8,9,10]"
   ]
  },
  {
   "cell_type": "code",
   "execution_count": 10,
   "id": "92bc53e2",
   "metadata": {},
   "outputs": [
    {
     "data": {
      "text/plain": [
       "[1, 2, 3, 4, 5, 6, 7, 8, 9, 10]"
      ]
     },
     "execution_count": 10,
     "metadata": {},
     "output_type": "execute_result"
    }
   ],
   "source": [
    "a"
   ]
  },
  {
   "cell_type": "code",
   "execution_count": 13,
   "id": "14ed55b7",
   "metadata": {},
   "outputs": [
    {
     "name": "stdout",
     "output_type": "stream",
     "text": [
      "1\n",
      "3\n",
      "5\n",
      "7\n",
      "9\n"
     ]
    }
   ],
   "source": [
    "for i in a:\n",
    "    if i % 2 != 0:\n",
    "        print(i)"
   ]
  },
  {
   "cell_type": "code",
   "execution_count": null,
   "id": "692c340f",
   "metadata": {},
   "outputs": [],
   "source": []
  }
 ],
 "metadata": {
  "kernelspec": {
   "display_name": "Python 3 (ipykernel)",
   "language": "python",
   "name": "python3"
  },
  "language_info": {
   "codemirror_mode": {
    "name": "ipython",
    "version": 3
   },
   "file_extension": ".py",
   "mimetype": "text/x-python",
   "name": "python",
   "nbconvert_exporter": "python",
   "pygments_lexer": "ipython3",
   "version": "3.11.4"
  }
 },
 "nbformat": 4,
 "nbformat_minor": 5
}
